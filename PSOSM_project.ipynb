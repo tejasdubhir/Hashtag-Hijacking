{
  "nbformat": 4,
  "nbformat_minor": 0,
  "metadata": {
    "colab": {
      "name": "IR project.ipynb",
      "provenance": [],
      "collapsed_sections": [],
      "include_colab_link": true
    },
    "kernelspec": {
      "name": "python3",
      "display_name": "Python 3"
    },
    "language_info": {
      "name": "python"
    }
  },
  "cells": [
    {
      "cell_type": "markdown",
      "metadata": {
        "id": "view-in-github",
        "colab_type": "text"
      },
      "source": [
        "<a href=\"https://colab.research.google.com/github/tejasdubhir/Psosm-project/blob/main/IR_project.ipynb\" target=\"_parent\"><img src=\"https://colab.research.google.com/assets/colab-badge.svg\" alt=\"Open In Colab\"/></a>"
      ]
    },
    {
      "cell_type": "code",
      "metadata": {
        "id": "3FL-PEzKAyd0",
        "colab": {
          "base_uri": "https://localhost:8080/"
        },
        "outputId": "40896b1c-8399-4af2-b8f4-8cc1bfb5954b"
      },
      "source": [
        "from google.colab import drive\n",
        "drive.mount('/content/gdrive')"
      ],
      "execution_count": null,
      "outputs": [
        {
          "output_type": "stream",
          "text": [
            "Mounted at /content/gdrive\n"
          ],
          "name": "stdout"
        }
      ]
    },
    {
      "cell_type": "code",
      "metadata": {
        "colab": {
          "base_uri": "https://localhost:8080/"
        },
        "id": "tHqZ4BXsDLmJ",
        "outputId": "9bc271f4-72b6-4369-c266-1160b56f88d1"
      },
      "source": [
        "#don't run this part\n",
        "%cd gdrive/My\\ Drive/data"
      ],
      "execution_count": null,
      "outputs": [
        {
          "output_type": "stream",
          "text": [
            "/content/gdrive/My Drive/data\n"
          ],
          "name": "stdout"
        }
      ]
    },
    {
      "cell_type": "code",
      "metadata": {
        "id": "C56H-HECDOdi"
      },
      "source": [
        "import tweepy\n",
        "import json\n",
        "import pandas as pd\n",
        "import csv\n",
        "import numpy as np\n",
        "import matplotlib.pyplot as plt"
      ],
      "execution_count": null,
      "outputs": []
    },
    {
      "cell_type": "code",
      "metadata": {
        "colab": {
          "base_uri": "https://localhost:8080/",
          "height": 195
        },
        "id": "gduv-6VnDbmC",
        "outputId": "671d62db-dae9-438b-cbbf-eec1ae33dcf2"
      },
      "source": [
        "# WorldPoetryDay = pd.read_csv('WorldPoetryDay.csv')\n",
        "WorldPoetryDay = pd.read_csv('CombinedDataset.csv')\n",
        "\n",
        "WorldPoetryDay = WorldPoetryDay.iloc[:,:]\n",
        "WorldPoetryDay.head()"
      ],
      "execution_count": null,
      "outputs": [
        {
          "output_type": "execute_result",
          "data": {
            "text/html": [
              "<div>\n",
              "<style scoped>\n",
              "    .dataframe tbody tr th:only-of-type {\n",
              "        vertical-align: middle;\n",
              "    }\n",
              "\n",
              "    .dataframe tbody tr th {\n",
              "        vertical-align: top;\n",
              "    }\n",
              "\n",
              "    .dataframe thead th {\n",
              "        text-align: right;\n",
              "    }\n",
              "</style>\n",
              "<table border=\"1\" class=\"dataframe\">\n",
              "  <thead>\n",
              "    <tr style=\"text-align: right;\">\n",
              "      <th></th>\n",
              "      <th>Unnamed: 0</th>\n",
              "      <th>res</th>\n",
              "      <th>created_at</th>\n",
              "      <th>full_text</th>\n",
              "      <th>retweeted</th>\n",
              "      <th>user</th>\n",
              "    </tr>\n",
              "  </thead>\n",
              "  <tbody>\n",
              "    <tr>\n",
              "      <th>0</th>\n",
              "      <td>0</td>\n",
              "      <td>1.0</td>\n",
              "      <td>Sun Mar 21 11:41:14 +0000 2021</td>\n",
              "      <td>RT @VijayFansUpdate: Massive 1⃣0⃣0⃣ MILLION vi...</td>\n",
              "      <td>False</td>\n",
              "      <td>{'id': 1093218419372056576, 'id_str': '1093218...</td>\n",
              "    </tr>\n",
              "    <tr>\n",
              "      <th>1</th>\n",
              "      <td>1</td>\n",
              "      <td>1.0</td>\n",
              "      <td>Sun Mar 21 11:41:14 +0000 2021</td>\n",
              "      <td>RT @KUMARESH_VJ01: Tag Speed Check at 05:10PM ...</td>\n",
              "      <td>False</td>\n",
              "      <td>{'id': 1364130692075028483, 'id_str': '1364130...</td>\n",
              "    </tr>\n",
              "    <tr>\n",
              "      <th>2</th>\n",
              "      <td>2</td>\n",
              "      <td>1.0</td>\n",
              "      <td>Sun Mar 21 11:41:13 +0000 2021</td>\n",
              "      <td>RT @Saro_Rules: Tag Trending More than 2 Hours...</td>\n",
              "      <td>False</td>\n",
              "      <td>{'id': 1010092819850002433, 'id_str': '1010092...</td>\n",
              "    </tr>\n",
              "    <tr>\n",
              "      <th>3</th>\n",
              "      <td>3</td>\n",
              "      <td>1.0</td>\n",
              "      <td>Sun Mar 21 11:41:13 +0000 2021</td>\n",
              "      <td>RT @Master_Mahiii: Once A King !! Always a Kin...</td>\n",
              "      <td>False</td>\n",
              "      <td>{'id': 1136827124772265985, 'id_str': '1136827...</td>\n",
              "    </tr>\n",
              "    <tr>\n",
              "      <th>4</th>\n",
              "      <td>4</td>\n",
              "      <td>1.0</td>\n",
              "      <td>Sun Mar 21 11:41:13 +0000 2021</td>\n",
              "      <td>RT @ItzJsurya_: Tag Comments Pls 🙂\\n\\n#VaathiC...</td>\n",
              "      <td>False</td>\n",
              "      <td>{'id': 841298244424544256, 'id_str': '84129824...</td>\n",
              "    </tr>\n",
              "  </tbody>\n",
              "</table>\n",
              "</div>"
            ],
            "text/plain": [
              "   Unnamed: 0  res  ... retweeted                                               user\n",
              "0           0  1.0  ...     False  {'id': 1093218419372056576, 'id_str': '1093218...\n",
              "1           1  1.0  ...     False  {'id': 1364130692075028483, 'id_str': '1364130...\n",
              "2           2  1.0  ...     False  {'id': 1010092819850002433, 'id_str': '1010092...\n",
              "3           3  1.0  ...     False  {'id': 1136827124772265985, 'id_str': '1136827...\n",
              "4           4  1.0  ...     False  {'id': 841298244424544256, 'id_str': '84129824...\n",
              "\n",
              "[5 rows x 6 columns]"
            ]
          },
          "metadata": {
            "tags": []
          },
          "execution_count": 18
        }
      ]
    },
    {
      "cell_type": "code",
      "metadata": {
        "colab": {
          "base_uri": "https://localhost:8080/"
        },
        "id": "MYM5_aSvESYX",
        "outputId": "32406eee-2a8b-40be-dde5-3dc040dba2e8"
      },
      "source": [
        "WorldPoetryDayNp = WorldPoetryDay.to_numpy()\n",
        "print(WorldPoetryDay.shape)\n",
        "# X, y = WorldPoetryDayNp[:,[2,4,15,22,23]],WorldPoetryDayNp[:,0]\n",
        "X, y = WorldPoetryDayNp[:,3],WorldPoetryDayNp[:,1]\n",
        "print(X.shape)\n",
        "print(y.shape)\n",
        "print(X[:5])\n",
        "print(y[:5])\n",
        "Xn = []\n",
        "yn = []\n",
        "for i in range(len(X)):\n",
        "  # print(y[i])\n",
        "  # print(int(y[i]))\n",
        "  if((y[i] == 0 or y[i] == 1) and int(y[i]) >= 2):\n",
        "    continue\n",
        "  else:\n",
        "    Xn.append(X[i])\n",
        "    yn.append(y[i])\n",
        "  # break\n",
        "X = np.array(Xn); y = np.array(yn)\n",
        "print(X.shape)\n",
        "print(y.shape)\n",
        "print(X[:5])\n",
        "print(y[:5])\n",
        "\n",
        "# print(y.unique())"
      ],
      "execution_count": null,
      "outputs": [
        {
          "output_type": "stream",
          "text": [
            "(6022, 6)\n",
            "(6022,)\n",
            "(6022,)\n",
            "['RT @VijayFansUpdate: Massive 1⃣0⃣0⃣ MILLION views in 54 Days 🔥  This is Just the Beginning! #Master \\n\\nHere is the Daily Views Chart of #Vaa…'\n",
            " 'RT @KUMARESH_VJ01: Tag Speed Check at 05:10PM \\n\\nTag 👉 #VaathiComing100MViews\\n\\n#Master || @actorvijay\\n#TeamThalapathyBloods\\n\\n#Flutter #100Da…'\n",
            " 'RT @Saro_Rules: Tag Trending More than 2 Hours Top of India Trends 😎💥\\n\\n#VaathiComing100MViews \\n#Master'\n",
            " 'RT @Master_Mahiii: Once A King !! Always a King - Thalapathy 😎\\n\\n#VaathiComing100MViews\\n#Master #Thalapathy65 @actorvijay https://t.co/u6veI…'\n",
            " 'RT @ItzJsurya_: Tag Comments Pls 🙂\\n\\n#VaathiComing100MViews\\n#Master @actorvijay']\n",
            "[1.0 1.0 1.0 1.0 1.0]\n",
            "(6022,)\n",
            "(6022,)\n",
            "['RT @VijayFansUpdate: Massive 1⃣0⃣0⃣ MILLION views in 54 Days 🔥  This is Just the Beginning! #Master \\n\\nHere is the Daily Views Chart of #Vaa…'\n",
            " 'RT @KUMARESH_VJ01: Tag Speed Check at 05:10PM \\n\\nTag 👉 #VaathiComing100MViews\\n\\n#Master || @actorvijay\\n#TeamThalapathyBloods\\n\\n#Flutter #100Da…'\n",
            " 'RT @Saro_Rules: Tag Trending More than 2 Hours Top of India Trends 😎💥\\n\\n#VaathiComing100MViews \\n#Master'\n",
            " 'RT @Master_Mahiii: Once A King !! Always a King - Thalapathy 😎\\n\\n#VaathiComing100MViews\\n#Master #Thalapathy65 @actorvijay https://t.co/u6veI…'\n",
            " 'RT @ItzJsurya_: Tag Comments Pls 🙂\\n\\n#VaathiComing100MViews\\n#Master @actorvijay']\n",
            "[1. 1. 1. 1. 1.]\n"
          ],
          "name": "stdout"
        }
      ]
    },
    {
      "cell_type": "code",
      "metadata": {
        "colab": {
          "base_uri": "https://localhost:8080/",
          "height": 318
        },
        "id": "9AnnovZpAZTm",
        "outputId": "86c8bad0-095a-428d-97cd-8d21e69f6e2b"
      },
      "source": [
        "#plotting class frequency\n",
        "label = pd.DataFrame(y)\n",
        "classFreq = label[0].value_counts()\n",
        "print(classFreq)\n",
        "classFreq.plot.barh()\n",
        "plt.show()"
      ],
      "execution_count": null,
      "outputs": [
        {
          "output_type": "stream",
          "text": [
            "1.0    5498\n",
            "0.0     417\n",
            "Name: 0, dtype: int64\n"
          ],
          "name": "stdout"
        },
        {
          "output_type": "display_data",
          "data": {
            "image/png": "[encoded data removed]",
            "text/plain": [
              "<Figure size 432x288 with 1 Axes>"
            ]
          },
          "metadata": {
            "tags": [],
            "needs_background": "light"
          }
        }
      ]
    },
    {
      "cell_type": "code",
      "metadata": {
        "colab": {
          "base_uri": "https://localhost:8080/"
        },
        "id": "D20ZMCW-A3_o",
        "outputId": "ff40f94f-ab9d-40ca-8673-3d2891b4f43c"
      },
      "source": [
        "#down samplling\n",
        "length = len(X)\n",
        "Xn = []; yn = []\n",
        "for i in range(length):\n",
        "  if(y[i] == 0):\n",
        "    yn.append(y[i])\n",
        "    Xn.append(X[i])\n",
        "for i in range(4*len(Xn)+20):\n",
        "  if(y[i] == 1):\n",
        "    yn.append(y[i])\n",
        "    Xn.append(X[i])\n",
        "X = np.array(Xn); y = np.array(yn)\n",
        "print(y)\n"
      ],
      "execution_count": null,
      "outputs": [
        {
          "output_type": "stream",
          "text": [
            "[0. 0. 0. ... 1. 1. 1.]\n"
          ],
          "name": "stdout"
        }
      ]
    },
    {
      "cell_type": "code",
      "metadata": {
        "colab": {
          "base_uri": "https://localhost:8080/",
          "height": 318
        },
        "id": "oefKEOQ_GzJQ",
        "outputId": "26118db0-cfd7-4daf-9310-3c5b42c7c3f7"
      },
      "source": [
        "#plotting class frequency after down samplling\n",
        "label = pd.DataFrame(y)\n",
        "classFreq = label[0].value_counts()\n",
        "print(classFreq)\n",
        "classFreq.plot.barh()\n",
        "plt.show()"
      ],
      "execution_count": null,
      "outputs": [
        {
          "output_type": "stream",
          "text": [
            "1.0    1450\n",
            "0.0     417\n",
            "Name: 0, dtype: int64\n"
          ],
          "name": "stdout"
        },
        {
          "output_type": "display_data",
          "data": {
            "image/png": "[encoded data removed]",
            "text/plain": [
              "<Figure size 432x288 with 1 Axes>"
            ]
          },
          "metadata": {
            "tags": [],
            "needs_background": "light"
          }
        }
      ]
    },
    {
      "cell_type": "code",
      "metadata": {
        "colab": {
          "base_uri": "https://localhost:8080/"
        },
        "id": "yGJ7CTCQvhDb",
        "outputId": "9337c48d-e796-4824-94c4-31027f019cbf"
      },
      "source": [
        "import glob\n",
        "import nltk\n",
        "import string\n",
        "import numpy as np\n",
        "nltk.download('punkt')\n",
        "nltk.download('stopwords')\n",
        "nltk.download('wordnet')\n",
        "from nltk.tokenize import word_tokenize\n",
        "from nltk.stem import WordNetLemmatizer\n",
        "from nltk.tokenize import word_tokenize\n",
        "from nltk.corpus import stopwords\n",
        "from nltk.corpus import stopwords\n",
        "stop_words = set(stopwords.words('english'))\n",
        "def preprocessing(doc):\n",
        "  puncd = {  }\n",
        "  for i in string.punctuation:\n",
        "    puncd[i] = ' '\n",
        "  doc = doc.translate(str.maketrans(puncd))                     #replacing the punctuation marks with white spaces. \n",
        "  doc = doc.strip()                                             #removing the extra white space characters. \n",
        "  doc = doc.lower()                                             #making the string to lower case letters. \n",
        "\n",
        "  tokens = word_tokenize(doc)                                         #tokenise the words to a list. \n",
        "  tokens_NoStop = [i for i in tokens if i not in stop_words]                #removing the stop words from the tokenised list. \n",
        "  lemmatizer=WordNetLemmatizer()\n",
        "  lemmedWordtext = []\n",
        "  for i in range(len(tokens_NoStop)):\n",
        "    lemmedWordtext.append(lemmatizer.lemmatize(tokens_NoStop[i]))           #appending the lemmatized word in the list\n",
        "  return lemmedWordtext\n",
        "Xnew = []\n",
        "for i in range(len(X)):\n",
        "  Xnew.append(preprocessing(X[i]))\n",
        "\n",
        "print(Xnew[:5])"
      ],
      "execution_count": null,
      "outputs": [
        {
          "output_type": "stream",
          "text": [
            "[nltk_data] Downloading package punkt to /root/nltk_data...\n",
            "[nltk_data]   Package punkt is already up-to-date!\n",
            "[nltk_data] Downloading package stopwords to /root/nltk_data...\n",
            "[nltk_data]   Package stopwords is already up-to-date!\n",
            "[nltk_data] Downloading package wordnet to /root/nltk_data...\n",
            "[nltk_data]   Package wordnet is already up-to-date!\n",
            "[['rt', 'vijaytrendspage', 'smashed', '50k', 'tweet', 'along', 'trending', 'india', 'trend', '🔥', 'vaathicoming100mviews', 'master', 'actorvijay'], ['rt', 'btp', 'offl', '50k', 'tweet', 'done', 'amp', 'dusted', '💥💥', 'vaathicoming100mviews', 'master', 'actorvijay'], ['rt', 'deviofficial7', 'get', '111', 'comment', '🥺\\U0001f90d', 'tag', 'vaathicoming100mviews', 'master', 'actorvijay'], ['rt', 'troll', 'cinema', 'vaathicoming', 'crowned', 'best', 'tamil', 'track', '2020', 'spotify', 'saavan', 'amazon', 'music', '2020💥💥', 'vaathicoming100mvi…'], ['robiless', 'screen', 'magnifier', 'mobile', 'phone', 'screen', 'expender', 'eye', 'protection', 'amazon', 'link', '👇', 'http', 'co', 'gxm6bfo2cy', 'telegram', 'group', 'http', 'co', 'tfgnr2c4qc', 'fahadhfaasil', 'rashmikamandanna', 'askajaz', 'vaathicoming100mviews', 'रामपाल', 'रेपिस्ट', 'है', 'http', 'co', '5zx0hudktm']]\n"
          ],
          "name": "stdout"
        }
      ]
    },
    {
      "cell_type": "code",
      "metadata": {
        "colab": {
          "base_uri": "https://localhost:8080/"
        },
        "id": "ddvZ13lp5IQo",
        "outputId": "abab4168-d339-4514-9347-8ec012ac5c16"
      },
      "source": [
        "from sklearn.model_selection import train_test_split\n",
        "X_train, X_test, y_train, y_test = train_test_split(X, y, test_size=0.33, stratify = y, random_state=37)\n",
        "print(X_train.shape)\n",
        "print(X_test.shape)"
      ],
      "execution_count": null,
      "outputs": [
        {
          "output_type": "stream",
          "text": [
            "(1250,)\n",
            "(617,)\n"
          ],
          "name": "stdout"
        }
      ]
    },
    {
      "cell_type": "code",
      "metadata": {
        "colab": {
          "base_uri": "https://localhost:8080/"
        },
        "id": "yAt4odW16Qzr",
        "outputId": "6b5c37e5-58cc-4f7b-e38a-40561d33df1b"
      },
      "source": [
        "from sklearn.metrics import accuracy_score\n",
        "from sklearn.metrics import classification_report\n",
        "from sklearn.metrics import confusion_matrix\n",
        "import pickle\n",
        "from sklearn.feature_extraction.text import CountVectorizer\n",
        "vectorizer = CountVectorizer(tokenizer = preprocessing)#,stop_words=stop_words\n",
        "X_trainT = vectorizer.fit_transform(X_train)\n",
        "features = vectorizer.get_feature_names()\n",
        "print(\"No of features after vectorizing X_train:\", len(features))\n",
        "X_testT  = vectorizer.transform(X_test)\n",
        "print(\"shape of X_trainT:\", X_trainT.shape)\n",
        "\n",
        "from sklearn.naive_bayes import MultinomialNB\n",
        "model = MultinomialNB(class_prior = [0.999, 0.001])\n",
        "y_train = y_train.astype('i')\n",
        "print(y_train.dtype)\n",
        "model.fit(X_trainT, y_train)\n",
        "\n",
        "#saving model then reading it again\n",
        "pickle.dump(model, open('baseLineModel.sav', 'wb'))\n",
        "model = pickle.load(open('baseLineModel.sav', 'rb'))\n",
        "\n",
        "y_pred = model.predict(X_testT)\n",
        "print(\"shape of y pred\",y_pred.shape)\n",
        "print(\"shape of y test\",y_test.shape)\n",
        "print(y_pred[:100])\n",
        "print(y_test[:100])\n",
        "y_test = y_test.astype('i')\n",
        "print(\"Accuracy: \",accuracy_score(y_test, y_pred))\n",
        "\n",
        "print(confusion_matrix(y_test, y_pred))\n",
        "\n",
        "print(classification_report(y_test,y_pred))\n",
        "# X_trainT"
      ],
      "execution_count": null,
      "outputs": [
        {
          "output_type": "stream",
          "text": [
            "No of features after vectorizing X_train: 4116\n",
            "shape of X_trainT: (1250, 4116)\n",
            "int32\n",
            "shape of y pred (617,)\n",
            "shape of y test (617,)\n",
            "[1 1 1 0 1 1 0 1 1 0 0 1 0 1 1 1 1 1 0 1 0 0 1 1 1 0 0 1 1 0 0 1 0 0 1 1 1\n",
            " 1 0 0 1 1 1 1 0 1 1 1 1 1 0 0 1 1 1 1 1 0 1 1 1 0 1 0 0 0 1 0 1 1 1 0 0 1\n",
            " 0 1 1 1 0 0 0 1 0 0 1 0 0 0 1 0 1 1 1 0 1 1 0 0 1 0]\n",
            "[1 1 1 0 1 1 0 1 1 1 1 1 0 1 1 1 1 1 1 1 1 1 1 1 1 0 1 1 1 0 0 1 0 0 1 0 1\n",
            " 1 0 0 0 0 1 1 0 1 1 1 1 1 0 1 1 1 1 1 1 0 1 1 1 1 1 0 0 0 1 1 1 1 1 0 0 1\n",
            " 0 1 1 1 1 1 0 1 1 0 1 0 0 1 0 1 1 1 1 1 1 1 1 1 0 0]\n",
            "Accuracy:  0.8038897893030794\n",
            "[[124  14]\n",
            " [107 372]]\n",
            "              precision    recall  f1-score   support\n",
            "\n",
            "           0       0.54      0.90      0.67       138\n",
            "           1       0.96      0.78      0.86       479\n",
            "\n",
            "    accuracy                           0.80       617\n",
            "   macro avg       0.75      0.84      0.77       617\n",
            "weighted avg       0.87      0.80      0.82       617\n",
            "\n"
          ],
          "name": "stdout"
        }
      ]
    },
    {
      "cell_type": "code",
      "metadata": {
        "id": "ghtVkmwmFBqy"
      },
      "source": [
        "# from sklearn.linear_model import LogisticRegression\n",
        "# clf = LogisticRegression(random_state=0).fit(X, y)\n",
        "# clf.predict(X[:2, :])"
      ],
      "execution_count": null,
      "outputs": []
    },
    {
      "cell_type": "markdown",
      "metadata": {
        "id": "XJDCKamX9p6i"
      },
      "source": [
        "Sentiment Analysis"
      ]
    },
    {
      "cell_type": "code",
      "metadata": {
        "id": "UKcTILSl9pNT",
        "colab": {
          "base_uri": "https://localhost:8080/"
        },
        "outputId": "5ded756c-aa87-4122-8a8c-2dde57f8647f"
      },
      "source": [
        "from textblob import TextBlob\n",
        "sentiment = np.zeros(len(X))\n",
        "for i in range(len(X)):\n",
        "  analysis = TextBlob(X[i])\n",
        "  if analysis.sentiment.polarity > 0:\n",
        "      sentiment[i] = 1\n",
        "  elif analysis.sentiment.polarity < 0:\n",
        "      sentiment[i] = -1\n",
        "hijPos = 0; hijNeg = 0; hijNeu = 0\n",
        "unHijPos = 0; unHijNeg = 0; unHiNeu = 0\n",
        "hijacked = 0; unhijacked = 0\n",
        "for i in range(len(X)):\n",
        "  if(y[i] == 0):\n",
        "    hijacked += 1\n",
        "    if(sentiment[i] == -1):\n",
        "      hijNeg += 1\n",
        "    elif(sentiment[i] == 1):\n",
        "      hijPos += 1\n",
        "    else:\n",
        "      hijNeu += 1\n",
        "  elif(y[i] == 1):\n",
        "    unhijacked += 1\n",
        "    if(sentiment[i] == -1):\n",
        "      unHijNeg += 1\n",
        "    elif(sentiment[i] == 1):\n",
        "      unHijPos += 1  \n",
        "    else:\n",
        "      unHiNeu += 1  \n",
        "\n",
        "n = len(X)\n",
        "\n",
        "print(\"Positive sentiment in Hijacked tweets\", hijPos*100/hijacked, '%')\n",
        "print(\"Negative sentiment in Hijacked tweets\", hijNeg*100/hijacked, '%')\n",
        "print(\"Neutral sentiment in Hijacked tweets\", hijNeu*100/hijacked, '%')\n",
        "\n",
        "print(\"Positive sentiment in UnHijacked tweets\", unHijPos*100/unhijacked, '%')\n",
        "print(\"Negative sentiment in UnHijacked tweets\", unHijNeg*100/unhijacked, '%')\n",
        "print(\"Neutral sentiment in Hijacked tweets\", unHiNeu*100/unhijacked, '%')\n"
      ],
      "execution_count": null,
      "outputs": [
        {
          "output_type": "stream",
          "text": [
            "Positive sentiment in Hijacked tweets 26.139088729016787 %\n",
            "Negative sentiment in Hijacked tweets 5.5155875299760195 %\n",
            "Neutral sentiment in Hijacked tweets 68.34532374100719 %\n",
            "Positive sentiment in UnHijacked tweets 45.44827586206897 %\n",
            "Negative sentiment in UnHijacked tweets 13.517241379310345 %\n",
            "Neutral sentiment in Hijacked tweets 41.03448275862069 %\n"
          ],
          "name": "stdout"
        }
      ]
    },
    {
      "cell_type": "code",
      "metadata": {
        "id": "JvScB4hx9_mc"
      },
      "source": [
        ""
      ],
      "execution_count": null,
      "outputs": []
    }
  ]
}
